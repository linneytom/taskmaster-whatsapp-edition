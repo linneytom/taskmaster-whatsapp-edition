{
 "cells": [
  {
   "cell_type": "code",
   "execution_count": 1,
   "metadata": {},
   "outputs": [],
   "source": [
    "from cleaners.chat_cleaner import RawChatCleaner\n",
    "from data_processing.chat_processing import ChatDataProcessor, MessageTextPreprocessor\n",
    "import pandas as pd\n",
    "import numpy as np\n",
    "from datetime import datetime\n",
    "from datetime import timedelta\n",
    "from nltk.stem import WordNetLemmatizer\n",
    "from styleformer import Styleformer\n",
    "import emoji"
   ]
  },
  {
   "cell_type": "code",
   "execution_count": 2,
   "metadata": {},
   "outputs": [],
   "source": [
    "cleaner = RawChatCleaner(\n",
    "    chat_loc = \"exported_chat_data/message_exports/celebrations.txt\"\n",
    ")\n",
    "clean_chat = cleaner.clean()"
   ]
  },
  {
   "cell_type": "code",
   "execution_count": 3,
   "metadata": {},
   "outputs": [],
   "source": [
    "processor = ChatDataProcessor(clean_chat)"
   ]
  },
  {
   "cell_type": "code",
   "execution_count": null,
   "metadata": {},
   "outputs": [],
   "source": []
  }
 ],
 "metadata": {
  "kernelspec": {
   "display_name": "Python 3.9.12 ('base')",
   "language": "python",
   "name": "python3"
  },
  "language_info": {
   "codemirror_mode": {
    "name": "ipython",
    "version": 3
   },
   "file_extension": ".py",
   "mimetype": "text/x-python",
   "name": "python",
   "nbconvert_exporter": "python",
   "pygments_lexer": "ipython3",
   "version": "3.9.12"
  },
  "orig_nbformat": 4,
  "vscode": {
   "interpreter": {
    "hash": "decd2c030e4ffd63976cab7182a67855f2b4ef0b39318e2079d2cca848dd8792"
   }
  }
 },
 "nbformat": 4,
 "nbformat_minor": 2
}
