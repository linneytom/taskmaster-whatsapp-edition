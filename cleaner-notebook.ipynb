{
 "cells": [
  {
   "cell_type": "code",
   "execution_count": 1,
   "metadata": {},
   "outputs": [],
   "source": [
    "from cleaners.chat_cleaner import RawChatCleaner\n",
    "from data_processing.chat_processing import ChatDataProcessor, MessageTextPreprocessor\n",
    "import pandas as pd\n",
    "import numpy as np\n",
    "from datetime import datetime\n",
    "from datetime import timedelta\n",
    "from nltk.stem import WordNetLemmatizer\n",
    "from styleformer import Styleformer"
   ]
  },
  {
   "cell_type": "code",
   "execution_count": 2,
   "metadata": {},
   "outputs": [],
   "source": [
    "cleaner = RawChatCleaner(\n",
    "    chat_loc = \"/Users/tom/Documents/taskmaster-whatsapp-edition/exported_chat_data/message_exports/celebrations.txt\"\n",
    ")\n",
    "clean_chat = cleaner.clean()"
   ]
  },
  {
   "cell_type": "code",
   "execution_count": 3,
   "metadata": {},
   "outputs": [],
   "source": [
    "processor = ChatDataProcessor(clean_chat)"
   ]
  },
  {
   "cell_type": "code",
   "execution_count": 4,
   "metadata": {},
   "outputs": [],
   "source": [
    "chat = processor.group_messages()"
   ]
  },
  {
   "cell_type": "code",
   "execution_count": 4,
   "metadata": {},
   "outputs": [],
   "source": [
    "text_processor = MessageTextPreprocessor(clean_chat)"
   ]
  },
  {
   "cell_type": "code",
   "execution_count": 12,
   "metadata": {},
   "outputs": [
    {
     "data": {
      "text/plain": [
       "'@447500079655 do u have house keys???. '"
      ]
     },
     "execution_count": 12,
     "metadata": {},
     "output_type": "execute_result"
    }
   ],
   "source": [
    "clean_chat.iloc[938,3]"
   ]
  },
  {
   "cell_type": "code",
   "execution_count": 8,
   "metadata": {},
   "outputs": [
    {
     "data": {
      "text/plain": [
       "935    I suggest we aim for the one thousand, two hun...\n",
       "936    So leave at one thousand, one hundred and thirty \n",
       "937                                         Im home btw \n",
       "938    four hundred and forty-seven billion, five hun...\n",
       "939                                  Will check now Xxx \n",
       "940    Hey guys can we all make a bit of an effort ov...\n",
       "941    Keeps getting close to being able to have the ...\n",
       "942    Guys I am working the weekend of the two thous...\n",
       "943                                Trying to find cover \n",
       "944                              Have we bought Tix yet \n",
       "945                  Could we move to the weekend after \n",
       "946                                         Haiahiiiiii \n",
       "947    Have bought tickets already but wanted to conf...\n",
       "948               How slim are chances of getting cover \n",
       "949                           Im gonna ask around today \n",
       "950                               I have Thursday cover \n",
       "951                   Im gonna say I bought Tix already \n",
       "952                                                 Lol \n",
       "953    httpswwwredditcomrInternetIsBeautifulcommentsx...\n",
       "954                                  All good re dorset \n",
       "955            Can u send the link plz so I can buy Tix \n",
       "956                                        MediaOmitted \n",
       "957            Stupid barwench fucked up and overpoored \n",
       "958                                        MediaOmitted \n",
       "959                                  Working till close \n",
       "960                                        MediaOmitted \n",
       "961                               The beer is long gone \n",
       "962                Ur close looks more like a night out \n",
       "963                               We got the red lights \n",
       "964                                        RoOOOOOXAnne \n",
       "dtype: object"
      ]
     },
     "execution_count": 8,
     "metadata": {},
     "output_type": "execute_result"
    }
   ],
   "source": [
    "text_processor.number_to_word_preprocessing()[-61:-31]"
   ]
  },
  {
   "cell_type": "code",
   "execution_count": null,
   "metadata": {},
   "outputs": [],
   "source": [
    "Dont have house keys R either of u in at five"
   ]
  },
  {
   "cell_type": "code",
   "execution_count": 6,
   "metadata": {},
   "outputs": [
    {
     "name": "stderr",
     "output_type": "stream",
     "text": [
      "/Users/tom/opt/miniconda3/lib/python3.9/site-packages/tqdm/auto.py:22: TqdmWarning: IProgress not found. Please update jupyter and ipywidgets. See https://ipywidgets.readthedocs.io/en/stable/user_install.html\n",
      "  from .autonotebook import tqdm as notebook_tqdm\n"
     ]
    },
    {
     "name": "stdout",
     "output_type": "stream",
     "text": [
      "Casual to Formal model loaded...\n"
     ]
    }
   ],
   "source": [
    "text_processor.formalise_preprocessing(batch_size=3, stop_at=10)"
   ]
  },
  {
   "cell_type": "code",
   "execution_count": 15,
   "metadata": {},
   "outputs": [
    {
     "data": {
      "text/plain": [
       "'twelve thousand three hundred'"
      ]
     },
     "execution_count": 15,
     "metadata": {},
     "output_type": "execute_result"
    }
   ],
   "source": [
    "import inflect\n",
    "inflect_engine = inflect.engine()\n",
    "inflect_engine.number_to_words('12300').replace(\",\",\"\")"
   ]
  },
  {
   "cell_type": "code",
   "execution_count": 8,
   "metadata": {},
   "outputs": [
    {
     "data": {
      "text/plain": [
       "\"__Media_Omitted__. Pub is a no go for me I'm afraid  :disappointed_face:  not sure I can make tomorrow either. \""
      ]
     },
     "execution_count": 8,
     "metadata": {},
     "output_type": "execute_result"
    }
   ],
   "source": [
    "import re\n",
    "newline_regexp = re.compile(\n",
    "    r\"(?:\\n)\"\n",
    ")\n",
    "newline_regexp.sub(\n",
    "    \". \",\n",
    "    processor.group_messages()[:10].iloc[7,0]\n",
    ")"
   ]
  },
  {
   "cell_type": "code",
   "execution_count": 4,
   "metadata": {},
   "outputs": [],
   "source": [
    "clean_chat[\"message_group_id\"] = create_message_group_id(\n",
    "    clean_chat,\n",
    "    th=1\n",
    ")"
   ]
  },
  {
   "cell_type": "code",
   "execution_count": 9,
   "metadata": {},
   "outputs": [
    {
     "data": {
      "text/plain": [
       "\"Pub is a no go for me I'm afraid  :disappointed_face:  not sure I can make tomorrow either. \""
      ]
     },
     "execution_count": 9,
     "metadata": {},
     "output_type": "execute_result"
    }
   ],
   "source": [
    "clean_chat.iloc[14,3]"
   ]
  },
  {
   "cell_type": "code",
   "execution_count": 4,
   "metadata": {},
   "outputs": [
    {
     "data": {
      "text/html": [
       "<div>\n",
       "<style scoped>\n",
       "    .dataframe tbody tr th:only-of-type {\n",
       "        vertical-align: middle;\n",
       "    }\n",
       "\n",
       "    .dataframe tbody tr th {\n",
       "        vertical-align: top;\n",
       "    }\n",
       "\n",
       "    .dataframe thead th {\n",
       "        text-align: right;\n",
       "    }\n",
       "</style>\n",
       "<table border=\"1\" class=\"dataframe\">\n",
       "  <thead>\n",
       "    <tr style=\"text-align: right;\">\n",
       "      <th></th>\n",
       "      <th></th>\n",
       "      <th>event_count</th>\n",
       "      <th>message_count</th>\n",
       "      <th>synthetic_row</th>\n",
       "    </tr>\n",
       "    <tr>\n",
       "      <th>author</th>\n",
       "      <th>year</th>\n",
       "      <th></th>\n",
       "      <th></th>\n",
       "      <th></th>\n",
       "    </tr>\n",
       "  </thead>\n",
       "  <tbody>\n",
       "    <tr>\n",
       "      <th rowspan=\"2\" valign=\"top\"></th>\n",
       "      <th>2021</th>\n",
       "      <td>3</td>\n",
       "      <td>0</td>\n",
       "      <td>False</td>\n",
       "    </tr>\n",
       "    <tr>\n",
       "      <th>2022</th>\n",
       "      <td>24</td>\n",
       "      <td>0</td>\n",
       "      <td>False</td>\n",
       "    </tr>\n",
       "    <tr>\n",
       "      <th rowspan=\"2\" valign=\"top\">Caroline</th>\n",
       "      <th>2021</th>\n",
       "      <td>0</td>\n",
       "      <td>74</td>\n",
       "      <td>False</td>\n",
       "    </tr>\n",
       "    <tr>\n",
       "      <th>2022</th>\n",
       "      <td>0</td>\n",
       "      <td>339</td>\n",
       "      <td>False</td>\n",
       "    </tr>\n",
       "    <tr>\n",
       "      <th rowspan=\"2\" valign=\"top\">Ezmay</th>\n",
       "      <th>2021</th>\n",
       "      <td>0</td>\n",
       "      <td>29</td>\n",
       "      <td>False</td>\n",
       "    </tr>\n",
       "    <tr>\n",
       "      <th>2022</th>\n",
       "      <td>0</td>\n",
       "      <td>229</td>\n",
       "      <td>False</td>\n",
       "    </tr>\n",
       "    <tr>\n",
       "      <th rowspan=\"2\" valign=\"top\">tom</th>\n",
       "      <th>2021</th>\n",
       "      <td>0</td>\n",
       "      <td>53</td>\n",
       "      <td>False</td>\n",
       "    </tr>\n",
       "    <tr>\n",
       "      <th>2022</th>\n",
       "      <td>0</td>\n",
       "      <td>241</td>\n",
       "      <td>False</td>\n",
       "    </tr>\n",
       "  </tbody>\n",
       "</table>\n",
       "</div>"
      ],
      "text/plain": [
       "               event_count  message_count  synthetic_row\n",
       "author   year                                           \n",
       "         2021            3              0          False\n",
       "         2022           24              0          False\n",
       "Caroline 2021            0             74          False\n",
       "         2022            0            339          False\n",
       "Ezmay    2021            0             29          False\n",
       "         2022            0            229          False\n",
       "tom      2021            0             53          False\n",
       "         2022            0            241          False"
      ]
     },
     "execution_count": 4,
     "metadata": {},
     "output_type": "execute_result"
    }
   ],
   "source": [
    "ts = processor.make_timeseries(\n",
    "    freq='y'\n",
    ")\n",
    "ts"
   ]
  },
  {
   "cell_type": "code",
   "execution_count": 2,
   "metadata": {},
   "outputs": [
    {
     "data": {
      "text/plain": [
       "' processor.make_message_tokens(\\n    ngram_range=(1,2),\\n    stop_words=\"english\"\\n).sum().sort_values(ascending=False)[:20] '"
      ]
     },
     "execution_count": 2,
     "metadata": {},
     "output_type": "execute_result"
    }
   ],
   "source": [
    "\"\"\" processor.make_message_tokens(\n",
    "    ngram_range=(1,2),\n",
    "    stop_words=\"english\"\n",
    ").sum().sort_values(ascending=False)[:20] \"\"\""
   ]
  },
  {
   "cell_type": "code",
   "execution_count": null,
   "metadata": {},
   "outputs": [],
   "source": []
  }
 ],
 "metadata": {
  "kernelspec": {
   "display_name": "Python 3.9.12 ('base')",
   "language": "python",
   "name": "python3"
  },
  "language_info": {
   "codemirror_mode": {
    "name": "ipython",
    "version": 3
   },
   "file_extension": ".py",
   "mimetype": "text/x-python",
   "name": "python",
   "nbconvert_exporter": "python",
   "pygments_lexer": "ipython3",
   "version": "3.9.12"
  },
  "orig_nbformat": 4,
  "vscode": {
   "interpreter": {
    "hash": "decd2c030e4ffd63976cab7182a67855f2b4ef0b39318e2079d2cca848dd8792"
   }
  }
 },
 "nbformat": 4,
 "nbformat_minor": 2
}
