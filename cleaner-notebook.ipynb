{
 "cells": [
  {
   "cell_type": "code",
   "execution_count": 1,
   "metadata": {},
   "outputs": [],
   "source": [
    "from cleaners.chat_cleaner import RawChatCleaner\n",
    "from data_processing.chat_processing import ChatDataProcessor, MessageTextPreprocessor\n",
    "import pandas as pd\n",
    "import numpy as np\n",
    "from datetime import datetime\n",
    "from datetime import timedelta\n",
    "from nltk.stem import WordNetLemmatizer\n",
    "from styleformer import Styleformer\n",
    "import emoji"
   ]
  },
  {
   "cell_type": "code",
   "execution_count": 3,
   "metadata": {},
   "outputs": [
    {
     "data": {
      "text/plain": [
       "'Messages and calls are end-to-end encrypted. No one outside of this chat, not even WhatsApp, can read or listen to them. Tap to learn more.. '"
      ]
     },
     "execution_count": 3,
     "metadata": {},
     "output_type": "execute_result"
    }
   ],
   "source": [
    "cleaner = RawChatCleaner(\n",
    "    chat_loc = \"exported_chat_data/message_exports/celebrations.txt\"\n",
    ")\n",
    "clean_chat = cleaner.clean()\n",
    "clean_chat[0][3]"
   ]
  },
  {
   "cell_type": "code",
   "execution_count": 102,
   "metadata": {},
   "outputs": [
    {
     "data": {
      "text/plain": [
       "' - Ezmay: You keep your filthy little paws off my celebrations\\n'"
      ]
     },
     "execution_count": 102,
     "metadata": {},
     "output_type": "execute_result"
    }
   ],
   "source": [
    "cleaner.split_by_timestamps()[7]"
   ]
  },
  {
   "cell_type": "code",
   "execution_count": 94,
   "metadata": {},
   "outputs": [
    {
     "data": {
      "text/plain": [
       "Timestamp('2021-09-27 08:54:00')"
      ]
     },
     "execution_count": 94,
     "metadata": {},
     "output_type": "execute_result"
    }
   ],
   "source": [
    "pd.Timestamp(year=2021,month=9,day=27,hour=8,minute=54)"
   ]
  },
  {
   "cell_type": "code",
   "execution_count": 79,
   "metadata": {},
   "outputs": [
    {
     "data": {
      "text/html": [
       "<div>\n",
       "<style scoped>\n",
       "    .dataframe tbody tr th:only-of-type {\n",
       "        vertical-align: middle;\n",
       "    }\n",
       "\n",
       "    .dataframe tbody tr th {\n",
       "        vertical-align: top;\n",
       "    }\n",
       "\n",
       "    .dataframe thead th {\n",
       "        text-align: right;\n",
       "    }\n",
       "</style>\n",
       "<table border=\"1\" class=\"dataframe\">\n",
       "  <thead>\n",
       "    <tr style=\"text-align: right;\">\n",
       "      <th></th>\n",
       "      <th>int_</th>\n",
       "      <th>str_</th>\n",
       "      <th>bool_</th>\n",
       "      <th>date</th>\n",
       "    </tr>\n",
       "  </thead>\n",
       "  <tbody>\n",
       "    <tr>\n",
       "      <th>0</th>\n",
       "      <td>1</td>\n",
       "      <td>two</td>\n",
       "      <td>True</td>\n",
       "      <td>2022-10-07 01:46:40.624174</td>\n",
       "    </tr>\n",
       "    <tr>\n",
       "      <th>1</th>\n",
       "      <td>3</td>\n",
       "      <td>four</td>\n",
       "      <td>False</td>\n",
       "      <td>2022-10-07 01:46:40.624178</td>\n",
       "    </tr>\n",
       "  </tbody>\n",
       "</table>\n",
       "</div>"
      ],
      "text/plain": [
       "   int_  str_  bool_                       date\n",
       "0     1   two   True 2022-10-07 01:46:40.624174\n",
       "1     3  four  False 2022-10-07 01:46:40.624178"
      ]
     },
     "execution_count": 79,
     "metadata": {},
     "output_type": "execute_result"
    }
   ],
   "source": [
    "tmp = pd.DataFrame([\n",
    "    [1,\"two\",True, datetime.datetime.now()],\n",
    "    [3,\"four\",False, datetime.datetime.now()]\n",
    "], columns = [\"int_\", \"str_\", \"bool_\", \"date\"])\n",
    "tmp"
   ]
  },
  {
   "cell_type": "code",
   "execution_count": 90,
   "metadata": {},
   "outputs": [
    {
     "data": {
      "text/plain": [
       "True"
      ]
     },
     "execution_count": 90,
     "metadata": {},
     "output_type": "execute_result"
    }
   ],
   "source": [
    "\n",
    "dtypes = [tmp[col].dtypes for col in tmp.columns]\n",
    "\n",
    "dtypes == ['int64', 'O', 'bool', '<M8[ns]']"
   ]
  },
  {
   "cell_type": "code",
   "execution_count": 84,
   "metadata": {},
   "outputs": [
    {
     "data": {
      "text/plain": [
       "[dtype('int64'), dtype('O'), dtype('bool'), dtype('<M8[ns]')]"
      ]
     },
     "execution_count": 84,
     "metadata": {},
     "output_type": "execute_result"
    }
   ],
   "source": [
    "dtypes"
   ]
  },
  {
   "cell_type": "code",
   "execution_count": null,
   "metadata": {},
   "outputs": [],
   "source": []
  },
  {
   "cell_type": "code",
   "execution_count": 32,
   "metadata": {},
   "outputs": [
    {
     "data": {
      "text/plain": [
       "False"
      ]
     },
     "execution_count": 32,
     "metadata": {},
     "output_type": "execute_result"
    }
   ],
   "source": [
    "type(\"hell\") == 'str'"
   ]
  },
  {
   "cell_type": "code",
   "execution_count": 48,
   "metadata": {},
   "outputs": [],
   "source": [
    "from unittest import mock\n",
    "class AClass():\n",
    "    def __init__(self, input_):\n",
    "        self.input_ = input_\n",
    "\n",
    "    def what_is_input(self):\n",
    "        \n",
    "        if not self.input_is_str():\n",
    "            self.input_is_not_str()\n",
    "        else:\n",
    "            print(\"its a string\")\n",
    "\n",
    "    def input_is_str(self):\n",
    "        return type(self.input_) == str\n",
    "    \n",
    "    def input_is_not_str(self):\n",
    "        print(\"its not a string\")\n",
    "\n",
    "\n",
    "\n",
    "@mock.patch.object(AClass, 'input_is_not_str')\n",
    "def test_class(mock_input_is_not_str):\n",
    "    test_class_str = AClass(input_=123)\n",
    "    test_class_int = AClass(input_=123)\n",
    "    test_class_str.what_is_input()\n",
    "    test_class_int.what_is_input()\n",
    "    mock_input_is_not_str.assert_called_once()"
   ]
  },
  {
   "cell_type": "code",
   "execution_count": 49,
   "metadata": {},
   "outputs": [
    {
     "ename": "AssertionError",
     "evalue": "Expected 'input_is_not_str' to have been called once. Called 2 times.\nCalls: [call(), call()].",
     "output_type": "error",
     "traceback": [
      "\u001b[0;31m---------------------------------------------------------------------------\u001b[0m",
      "\u001b[0;31mAssertionError\u001b[0m                            Traceback (most recent call last)",
      "\u001b[1;32m/Users/tom/Documents/taskmaster-whatsapp-edition/cleaner-notebook.ipynb Cell 4\u001b[0m in \u001b[0;36m<cell line: 1>\u001b[0;34m()\u001b[0m\n\u001b[0;32m----> <a href='vscode-notebook-cell:/Users/tom/Documents/taskmaster-whatsapp-edition/cleaner-notebook.ipynb#X36sZmlsZQ%3D%3D?line=0'>1</a>\u001b[0m test_class()\n",
      "File \u001b[0;32m~/opt/miniconda3/lib/python3.9/unittest/mock.py:1336\u001b[0m, in \u001b[0;36m_patch.decorate_callable.<locals>.patched\u001b[0;34m(*args, **keywargs)\u001b[0m\n\u001b[1;32m   1331\u001b[0m \u001b[39m@wraps\u001b[39m(func)\n\u001b[1;32m   1332\u001b[0m \u001b[39mdef\u001b[39;00m \u001b[39mpatched\u001b[39m(\u001b[39m*\u001b[39margs, \u001b[39m*\u001b[39m\u001b[39m*\u001b[39mkeywargs):\n\u001b[1;32m   1333\u001b[0m     \u001b[39mwith\u001b[39;00m \u001b[39mself\u001b[39m\u001b[39m.\u001b[39mdecoration_helper(patched,\n\u001b[1;32m   1334\u001b[0m                                 args,\n\u001b[1;32m   1335\u001b[0m                                 keywargs) \u001b[39mas\u001b[39;00m (newargs, newkeywargs):\n\u001b[0;32m-> 1336\u001b[0m         \u001b[39mreturn\u001b[39;00m func(\u001b[39m*\u001b[39;49mnewargs, \u001b[39m*\u001b[39;49m\u001b[39m*\u001b[39;49mnewkeywargs)\n",
      "\u001b[1;32m/Users/tom/Documents/taskmaster-whatsapp-edition/cleaner-notebook.ipynb Cell 4\u001b[0m in \u001b[0;36mtest_class\u001b[0;34m(mock_input_is_not_str)\u001b[0m\n\u001b[1;32m     <a href='vscode-notebook-cell:/Users/tom/Documents/taskmaster-whatsapp-edition/cleaner-notebook.ipynb#X36sZmlsZQ%3D%3D?line=24'>25</a>\u001b[0m test_class_str\u001b[39m.\u001b[39mwhat_is_input()\n\u001b[1;32m     <a href='vscode-notebook-cell:/Users/tom/Documents/taskmaster-whatsapp-edition/cleaner-notebook.ipynb#X36sZmlsZQ%3D%3D?line=25'>26</a>\u001b[0m test_class_int\u001b[39m.\u001b[39mwhat_is_input()\n\u001b[0;32m---> <a href='vscode-notebook-cell:/Users/tom/Documents/taskmaster-whatsapp-edition/cleaner-notebook.ipynb#X36sZmlsZQ%3D%3D?line=26'>27</a>\u001b[0m mock_input_is_not_str\u001b[39m.\u001b[39;49massert_called_once()\n",
      "File \u001b[0;32m~/opt/miniconda3/lib/python3.9/unittest/mock.py:886\u001b[0m, in \u001b[0;36mNonCallableMock.assert_called_once\u001b[0;34m(self)\u001b[0m\n\u001b[1;32m    881\u001b[0m \u001b[39mif\u001b[39;00m \u001b[39mnot\u001b[39;00m \u001b[39mself\u001b[39m\u001b[39m.\u001b[39mcall_count \u001b[39m==\u001b[39m \u001b[39m1\u001b[39m:\n\u001b[1;32m    882\u001b[0m     msg \u001b[39m=\u001b[39m (\u001b[39m\"\u001b[39m\u001b[39mExpected \u001b[39m\u001b[39m'\u001b[39m\u001b[39m%s\u001b[39;00m\u001b[39m'\u001b[39m\u001b[39m to have been called once. Called \u001b[39m\u001b[39m%s\u001b[39;00m\u001b[39m times.\u001b[39m\u001b[39m%s\u001b[39;00m\u001b[39m\"\u001b[39m\n\u001b[1;32m    883\u001b[0m            \u001b[39m%\u001b[39m (\u001b[39mself\u001b[39m\u001b[39m.\u001b[39m_mock_name \u001b[39mor\u001b[39;00m \u001b[39m'\u001b[39m\u001b[39mmock\u001b[39m\u001b[39m'\u001b[39m,\n\u001b[1;32m    884\u001b[0m               \u001b[39mself\u001b[39m\u001b[39m.\u001b[39mcall_count,\n\u001b[1;32m    885\u001b[0m               \u001b[39mself\u001b[39m\u001b[39m.\u001b[39m_calls_repr()))\n\u001b[0;32m--> 886\u001b[0m     \u001b[39mraise\u001b[39;00m \u001b[39mAssertionError\u001b[39;00m(msg)\n",
      "\u001b[0;31mAssertionError\u001b[0m: Expected 'input_is_not_str' to have been called once. Called 2 times.\nCalls: [call(), call()]."
     ]
    }
   ],
   "source": [
    "test_class()"
   ]
  },
  {
   "cell_type": "code",
   "execution_count": 14,
   "metadata": {},
   "outputs": [],
   "source": [
    "import unittest\n",
    "from unittest.mock import MagicMock\n",
    "\n",
    "class ATestClass(unittest.TestCase):\n",
    "    \n",
    "    def what_is_input_call_input_is_not_str(self):\n",
    "        strput = \"its a string\"\n",
    "        intput = 123\n",
    "        \n",
    "        input_is_str = AClass(\n",
    "            input_ = strput\n",
    "        )\n",
    "        input_is_int = AClass(\n",
    "            input_ = intput\n",
    "        )\n",
    "\n",
    "        input_is_str.input_is_not_str = MagicMock(return_value=False)\n",
    "        input_is_int.input_is_not_str = MagicMock(return_value=True)\n",
    "\n",
    "        expected_str = False\n",
    "        expected_int = True\n",
    "\n",
    "        output_str = input_is_str.what_is_input()\n",
    "        output_int = input_is_int.what_is_input()\n",
    "\n",
    "        self.assertEqual(output_str, expected_str, \"did not expect input_is_not_str to be called\")\n",
    "        self.assertEqual(output_int, expected_int, \"expected input_is_not_str to be called\")\n",
    "\n",
    "\n",
    "class AClass():\n",
    "    def __init__(self, input_):\n",
    "        self.input_ = input_\n",
    "\n",
    "    def what_is_input(self):\n",
    "        \n",
    "        if not self.input_is_str():\n",
    "            self.input_is_not_str()\n",
    "\n",
    "    def input_is_str(self):\n",
    "        return type(self.input_) == \"str\"\n",
    "    \n",
    "    def input_is_not_str(self):\n",
    "        print(\"its not a string\")"
   ]
  },
  {
   "cell_type": "code",
   "execution_count": 15,
   "metadata": {},
   "outputs": [
    {
     "name": "stderr",
     "output_type": "stream",
     "text": [
      "\n",
      "----------------------------------------------------------------------\n",
      "Ran 0 tests in 0.000s\n",
      "\n",
      "OK\n"
     ]
    },
    {
     "data": {
      "text/plain": [
       "<unittest.main.TestProgram at 0x7f8321ea1ee0>"
      ]
     },
     "execution_count": 15,
     "metadata": {},
     "output_type": "execute_result"
    }
   ],
   "source": [
    "unittest.main(argv=[''], verbosity=2, exit=False)"
   ]
  },
  {
   "cell_type": "code",
   "execution_count": 78,
   "metadata": {},
   "outputs": [
    {
     "data": {
      "text/plain": [
       "str"
      ]
     },
     "execution_count": 78,
     "metadata": {},
     "output_type": "execute_result"
    }
   ],
   "source": [
    "str_ = open(\"/Users/tom/Documents/taskmaster-whatsapp-edition/exported_chat_data/message_exports/celebrations.txt\", 'r').read()\n",
    "type(str_[:700].encode(\"ascii\", \"backslashreplace\").decode())"
   ]
  },
  {
   "cell_type": "code",
   "execution_count": 93,
   "metadata": {},
   "outputs": [
    {
     "name": "stdout",
     "output_type": "stream",
     "text": [
      "ŠÔmé ªŠ€ÍÌ ç£ÁRS ©añ $TAY\n",
      "m  RS a $TAY\n"
     ]
    }
   ],
   "source": [
    "test = \"ŠÔmé ªŠ€ÍÌ ç£ÁRS ©añ $TAY\"\n",
    "print(test)\n",
    "print(test.encode(\"ascii\",\"ignore\").decode())"
   ]
  },
  {
   "cell_type": "code",
   "execution_count": 84,
   "metadata": {},
   "outputs": [
    {
     "data": {
      "text/plain": [
       "b'27/09/2021, 08:54 - Messages and calls are end-to-end encrypted. No one outside of this chat, not even WhatsApp, can read or listen to them. Tap to learn more.\\n27/09/2021, 08:54 - You created group \"celebrations\"\\n27/09/2021, 08:54 - tom: i hope no one has sentimental attachment to the packet of celebrations on the living room table\\n27/09/2021, 09:48 - Ezmay: You keep your filthy little paws off my celebrations\\n27/09/2021, 09:49 - Ezmay: Unless youre after the bountys\\n27/09/2021, 09:51 - tom: \\n27/09/2021, 09:51 - tom: Okkk ahahaha\\n27/09/2021, 09:55 - Ezmay: Ill allow the tiny twixes too\\n27/09/2021, 09:55 - Ezmay: They creep me out\\n27/09/2021, 09:55 - Ezmay: And the standard galaxies\\n27'"
      ]
     },
     "execution_count": 84,
     "metadata": {},
     "output_type": "execute_result"
    }
   ],
   "source": [
    "(str_[:700].encode(\"ascii\",\"ignore\")) "
   ]
  },
  {
   "cell_type": "code",
   "execution_count": 2,
   "metadata": {},
   "outputs": [],
   "source": [
    "import re\n",
    "number = '4314'\n"
   ]
  },
  {
   "cell_type": "code",
   "execution_count": 3,
   "metadata": {},
   "outputs": [
    {
     "data": {
      "text/html": [
       "<div>\n",
       "<style scoped>\n",
       "    .dataframe tbody tr th:only-of-type {\n",
       "        vertical-align: middle;\n",
       "    }\n",
       "\n",
       "    .dataframe tbody tr th {\n",
       "        vertical-align: top;\n",
       "    }\n",
       "\n",
       "    .dataframe thead th {\n",
       "        text-align: right;\n",
       "    }\n",
       "</style>\n",
       "<table border=\"1\" class=\"dataframe\">\n",
       "  <thead>\n",
       "    <tr style=\"text-align: right;\">\n",
       "      <th></th>\n",
       "      <th>timestamp</th>\n",
       "      <th>author</th>\n",
       "      <th>is_event</th>\n",
       "      <th>message</th>\n",
       "    </tr>\n",
       "  </thead>\n",
       "  <tbody>\n",
       "    <tr>\n",
       "      <th>0</th>\n",
       "      <td>2021-09-27 08:54:00</td>\n",
       "      <td></td>\n",
       "      <td>True</td>\n",
       "      <td>Messages and calls are end-to-end encrypted. N...</td>\n",
       "    </tr>\n",
       "    <tr>\n",
       "      <th>1</th>\n",
       "      <td>2021-09-27 08:54:00</td>\n",
       "      <td></td>\n",
       "      <td>True</td>\n",
       "      <td>You created group \"celebrations\".</td>\n",
       "    </tr>\n",
       "    <tr>\n",
       "      <th>2</th>\n",
       "      <td>2021-09-27 08:54:00</td>\n",
       "      <td>tom</td>\n",
       "      <td>False</td>\n",
       "      <td>i hope no one has sentimental attachment to th...</td>\n",
       "    </tr>\n",
       "    <tr>\n",
       "      <th>3</th>\n",
       "      <td>2021-09-27 09:48:00</td>\n",
       "      <td>Ezmay</td>\n",
       "      <td>False</td>\n",
       "      <td>You keep your filthy little paws off my celebr...</td>\n",
       "    </tr>\n",
       "    <tr>\n",
       "      <th>4</th>\n",
       "      <td>2021-09-27 09:49:00</td>\n",
       "      <td>Ezmay</td>\n",
       "      <td>False</td>\n",
       "      <td>Unless you’re after the bountys.</td>\n",
       "    </tr>\n",
       "    <tr>\n",
       "      <th>5</th>\n",
       "      <td>2021-09-27 09:51:00</td>\n",
       "      <td>tom</td>\n",
       "      <td>False</td>\n",
       "      <td>:grimacing_face:  :grimacing_face:  :grimacin...</td>\n",
       "    </tr>\n",
       "    <tr>\n",
       "      <th>6</th>\n",
       "      <td>2021-09-27 09:51:00</td>\n",
       "      <td>tom</td>\n",
       "      <td>False</td>\n",
       "      <td>Okkk ahahaha.</td>\n",
       "    </tr>\n",
       "    <tr>\n",
       "      <th>7</th>\n",
       "      <td>2021-09-27 09:55:00</td>\n",
       "      <td>Ezmay</td>\n",
       "      <td>False</td>\n",
       "      <td>I’ll allow the tiny twixes too.</td>\n",
       "    </tr>\n",
       "    <tr>\n",
       "      <th>8</th>\n",
       "      <td>2021-09-27 09:55:00</td>\n",
       "      <td>Ezmay</td>\n",
       "      <td>False</td>\n",
       "      <td>They creep me out.</td>\n",
       "    </tr>\n",
       "    <tr>\n",
       "      <th>9</th>\n",
       "      <td>2021-09-27 09:55:00</td>\n",
       "      <td>Ezmay</td>\n",
       "      <td>False</td>\n",
       "      <td>And the standard galaxies.</td>\n",
       "    </tr>\n",
       "    <tr>\n",
       "      <th>10</th>\n",
       "      <td>2021-09-27 09:55:00</td>\n",
       "      <td>Ezmay</td>\n",
       "      <td>False</td>\n",
       "      <td>No spice to them at all they’re free game.</td>\n",
       "    </tr>\n",
       "    <tr>\n",
       "      <th>11</th>\n",
       "      <td>2021-09-27 12:48:00</td>\n",
       "      <td>Ezmay</td>\n",
       "      <td>False</td>\n",
       "      <td>Home at 5 ish, are the Linneys keen on pub thi...</td>\n",
       "    </tr>\n",
       "    <tr>\n",
       "      <th>12</th>\n",
       "      <td>2021-09-27 12:48:00</td>\n",
       "      <td>Ezmay</td>\n",
       "      <td>False</td>\n",
       "      <td>Can be a quicky.</td>\n",
       "    </tr>\n",
       "    <tr>\n",
       "      <th>13</th>\n",
       "      <td>2021-09-27 12:48:00</td>\n",
       "      <td>Caroline</td>\n",
       "      <td>False</td>\n",
       "      <td>__Media_Omitted__.</td>\n",
       "    </tr>\n",
       "    <tr>\n",
       "      <th>14</th>\n",
       "      <td>2021-09-27 12:49:00</td>\n",
       "      <td>Caroline</td>\n",
       "      <td>False</td>\n",
       "      <td>Pub is a no go for me I'm afraid  :disappointe...</td>\n",
       "    </tr>\n",
       "    <tr>\n",
       "      <th>15</th>\n",
       "      <td>2021-09-27 12:49:00</td>\n",
       "      <td>Ezmay</td>\n",
       "      <td>False</td>\n",
       "      <td>__Media_Omitted__.</td>\n",
       "    </tr>\n",
       "    <tr>\n",
       "      <th>16</th>\n",
       "      <td>2021-09-27 12:49:00</td>\n",
       "      <td>Caroline</td>\n",
       "      <td>False</td>\n",
       "      <td>OMG SHES ON A PLANE.</td>\n",
       "    </tr>\n",
       "    <tr>\n",
       "      <th>17</th>\n",
       "      <td>2021-09-27 12:49:00</td>\n",
       "      <td>Caroline</td>\n",
       "      <td>False</td>\n",
       "      <td>Fly my pretty.</td>\n",
       "    </tr>\n",
       "    <tr>\n",
       "      <th>18</th>\n",
       "      <td>2021-09-27 12:49:00</td>\n",
       "      <td>Ezmay</td>\n",
       "      <td>False</td>\n",
       "      <td>Was just gonna say I can’t make tommoz as well...</td>\n",
       "    </tr>\n",
       "    <tr>\n",
       "      <th>19</th>\n",
       "      <td>2021-09-27 12:50:00</td>\n",
       "      <td>Caroline</td>\n",
       "      <td>False</td>\n",
       "      <td>__Media_Omitted__.</td>\n",
       "    </tr>\n",
       "    <tr>\n",
       "      <th>20</th>\n",
       "      <td>2021-09-27 12:50:00</td>\n",
       "      <td>Ezmay</td>\n",
       "      <td>False</td>\n",
       "      <td>She’s had a PINT and she is NERVOUS.</td>\n",
       "    </tr>\n",
       "    <tr>\n",
       "      <th>21</th>\n",
       "      <td>2021-09-27 12:50:00</td>\n",
       "      <td>Caroline</td>\n",
       "      <td>False</td>\n",
       "      <td>Lmao I'll let them know.</td>\n",
       "    </tr>\n",
       "    <tr>\n",
       "      <th>22</th>\n",
       "      <td>2021-09-27 12:50:00</td>\n",
       "      <td>Caroline</td>\n",
       "      <td>False</td>\n",
       "      <td>Nooo don't be don't be! I've never heard anyth...</td>\n",
       "    </tr>\n",
       "    <tr>\n",
       "      <th>23</th>\n",
       "      <td>2021-09-27 12:51:00</td>\n",
       "      <td>Caroline</td>\n",
       "      <td>False</td>\n",
       "      <td>__Media_Omitted__.</td>\n",
       "    </tr>\n",
       "    <tr>\n",
       "      <th>24</th>\n",
       "      <td>2021-09-27 16:27:00</td>\n",
       "      <td>tom</td>\n",
       "      <td>False</td>\n",
       "      <td>__Media_Omitted__.</td>\n",
       "    </tr>\n",
       "    <tr>\n",
       "      <th>25</th>\n",
       "      <td>2021-09-27 16:27:00</td>\n",
       "      <td>tom</td>\n",
       "      <td>False</td>\n",
       "      <td>__Media_Omitted__.</td>\n",
       "    </tr>\n",
       "    <tr>\n",
       "      <th>26</th>\n",
       "      <td>2021-09-27 17:31:00</td>\n",
       "      <td>Caroline</td>\n",
       "      <td>False</td>\n",
       "      <td>Are either of u guys home?.</td>\n",
       "    </tr>\n",
       "    <tr>\n",
       "      <th>27</th>\n",
       "      <td>2021-09-27 17:31:00</td>\n",
       "      <td>Caroline</td>\n",
       "      <td>False</td>\n",
       "      <td>Just pulling up to the flat now should have gi...</td>\n",
       "    </tr>\n",
       "    <tr>\n",
       "      <th>28</th>\n",
       "      <td>2021-09-27 18:37:00</td>\n",
       "      <td>Caroline</td>\n",
       "      <td>False</td>\n",
       "      <td>Have eaten some celebrations.</td>\n",
       "    </tr>\n",
       "    <tr>\n",
       "      <th>29</th>\n",
       "      <td>2021-09-27 18:37:00</td>\n",
       "      <td>Caroline</td>\n",
       "      <td>False</td>\n",
       "      <td>But have left gift for each of you on piano st...</td>\n",
       "    </tr>\n",
       "    <tr>\n",
       "      <th>30</th>\n",
       "      <td>2021-09-27 18:37:00</td>\n",
       "      <td>Caroline</td>\n",
       "      <td>False</td>\n",
       "      <td>__Media_Omitted__.</td>\n",
       "    </tr>\n",
       "    <tr>\n",
       "      <th>31</th>\n",
       "      <td>2021-09-27 18:38:00</td>\n",
       "      <td>Caroline</td>\n",
       "      <td>False</td>\n",
       "      <td>Ez I feel like at this rate I will never see y...</td>\n",
       "    </tr>\n",
       "    <tr>\n",
       "      <th>32</th>\n",
       "      <td>2021-10-10 16:43:00</td>\n",
       "      <td>tom</td>\n",
       "      <td>False</td>\n",
       "      <td>__Media_Omitted__.</td>\n",
       "    </tr>\n",
       "    <tr>\n",
       "      <th>33</th>\n",
       "      <td>2021-10-10 17:05:00</td>\n",
       "      <td>tom</td>\n",
       "      <td>False</td>\n",
       "      <td>Got everything in the second taxi!.</td>\n",
       "    </tr>\n",
       "    <tr>\n",
       "      <th>34</th>\n",
       "      <td>2021-10-10 17:06:00</td>\n",
       "      <td>tom</td>\n",
       "      <td>False</td>\n",
       "      <td>On my way now!!.</td>\n",
       "    </tr>\n",
       "    <tr>\n",
       "      <th>35</th>\n",
       "      <td>2021-10-10 17:06:00</td>\n",
       "      <td>Caroline</td>\n",
       "      <td>False</td>\n",
       "      <td>Wait.</td>\n",
       "    </tr>\n",
       "    <tr>\n",
       "      <th>36</th>\n",
       "      <td>2021-10-10 17:06:00</td>\n",
       "      <td>Caroline</td>\n",
       "      <td>False</td>\n",
       "      <td>I left stuff at your place.</td>\n",
       "    </tr>\n",
       "    <tr>\n",
       "      <th>37</th>\n",
       "      <td>2021-10-10 17:06:00</td>\n",
       "      <td>tom</td>\n",
       "      <td>False</td>\n",
       "      <td>Ahahah.</td>\n",
       "    </tr>\n",
       "    <tr>\n",
       "      <th>38</th>\n",
       "      <td>2021-10-10 17:06:00</td>\n",
       "      <td>Caroline</td>\n",
       "      <td>False</td>\n",
       "      <td>I left my watch in your kitchen.</td>\n",
       "    </tr>\n",
       "    <tr>\n",
       "      <th>39</th>\n",
       "      <td>2021-10-10 17:06:00</td>\n",
       "      <td>tom</td>\n",
       "      <td>False</td>\n",
       "      <td>What?.</td>\n",
       "    </tr>\n",
       "  </tbody>\n",
       "</table>\n",
       "</div>"
      ],
      "text/plain": [
       "             timestamp    author  is_event  \\\n",
       "0  2021-09-27 08:54:00                True   \n",
       "1  2021-09-27 08:54:00                True   \n",
       "2  2021-09-27 08:54:00       tom     False   \n",
       "3  2021-09-27 09:48:00     Ezmay     False   \n",
       "4  2021-09-27 09:49:00     Ezmay     False   \n",
       "5  2021-09-27 09:51:00       tom     False   \n",
       "6  2021-09-27 09:51:00       tom     False   \n",
       "7  2021-09-27 09:55:00     Ezmay     False   \n",
       "8  2021-09-27 09:55:00     Ezmay     False   \n",
       "9  2021-09-27 09:55:00     Ezmay     False   \n",
       "10 2021-09-27 09:55:00     Ezmay     False   \n",
       "11 2021-09-27 12:48:00     Ezmay     False   \n",
       "12 2021-09-27 12:48:00     Ezmay     False   \n",
       "13 2021-09-27 12:48:00  Caroline     False   \n",
       "14 2021-09-27 12:49:00  Caroline     False   \n",
       "15 2021-09-27 12:49:00     Ezmay     False   \n",
       "16 2021-09-27 12:49:00  Caroline     False   \n",
       "17 2021-09-27 12:49:00  Caroline     False   \n",
       "18 2021-09-27 12:49:00     Ezmay     False   \n",
       "19 2021-09-27 12:50:00  Caroline     False   \n",
       "20 2021-09-27 12:50:00     Ezmay     False   \n",
       "21 2021-09-27 12:50:00  Caroline     False   \n",
       "22 2021-09-27 12:50:00  Caroline     False   \n",
       "23 2021-09-27 12:51:00  Caroline     False   \n",
       "24 2021-09-27 16:27:00       tom     False   \n",
       "25 2021-09-27 16:27:00       tom     False   \n",
       "26 2021-09-27 17:31:00  Caroline     False   \n",
       "27 2021-09-27 17:31:00  Caroline     False   \n",
       "28 2021-09-27 18:37:00  Caroline     False   \n",
       "29 2021-09-27 18:37:00  Caroline     False   \n",
       "30 2021-09-27 18:37:00  Caroline     False   \n",
       "31 2021-09-27 18:38:00  Caroline     False   \n",
       "32 2021-10-10 16:43:00       tom     False   \n",
       "33 2021-10-10 17:05:00       tom     False   \n",
       "34 2021-10-10 17:06:00       tom     False   \n",
       "35 2021-10-10 17:06:00  Caroline     False   \n",
       "36 2021-10-10 17:06:00  Caroline     False   \n",
       "37 2021-10-10 17:06:00       tom     False   \n",
       "38 2021-10-10 17:06:00  Caroline     False   \n",
       "39 2021-10-10 17:06:00       tom     False   \n",
       "\n",
       "                                              message  \n",
       "0   Messages and calls are end-to-end encrypted. N...  \n",
       "1                  You created group \"celebrations\".   \n",
       "2   i hope no one has sentimental attachment to th...  \n",
       "3   You keep your filthy little paws off my celebr...  \n",
       "4                   Unless you’re after the bountys.   \n",
       "5    :grimacing_face:  :grimacing_face:  :grimacin...  \n",
       "6                                      Okkk ahahaha.   \n",
       "7                    I’ll allow the tiny twixes too.   \n",
       "8                                 They creep me out.   \n",
       "9                         And the standard galaxies.   \n",
       "10        No spice to them at all they’re free game.   \n",
       "11  Home at 5 ish, are the Linneys keen on pub thi...  \n",
       "12                                  Can be a quicky.   \n",
       "13                                __Media_Omitted__.   \n",
       "14  Pub is a no go for me I'm afraid  :disappointe...  \n",
       "15                                __Media_Omitted__.   \n",
       "16                              OMG SHES ON A PLANE.   \n",
       "17                                    Fly my pretty.   \n",
       "18  Was just gonna say I can’t make tommoz as well...  \n",
       "19                                __Media_Omitted__.   \n",
       "20              She’s had a PINT and she is NERVOUS.   \n",
       "21                          Lmao I'll let them know.   \n",
       "22  Nooo don't be don't be! I've never heard anyth...  \n",
       "23                                __Media_Omitted__.   \n",
       "24                                __Media_Omitted__.   \n",
       "25                                __Media_Omitted__.   \n",
       "26                       Are either of u guys home?.   \n",
       "27  Just pulling up to the flat now should have gi...  \n",
       "28                     Have eaten some celebrations.   \n",
       "29  But have left gift for each of you on piano st...  \n",
       "30                                __Media_Omitted__.   \n",
       "31  Ez I feel like at this rate I will never see y...  \n",
       "32                                __Media_Omitted__.   \n",
       "33               Got everything in the second taxi!.   \n",
       "34                                  On my way now!!.   \n",
       "35                                             Wait.   \n",
       "36                       I left stuff at your place.   \n",
       "37                                           Ahahah.   \n",
       "38                  I left my watch in your kitchen.   \n",
       "39                                            What?.   "
      ]
     },
     "execution_count": 3,
     "metadata": {},
     "output_type": "execute_result"
    }
   ],
   "source": [
    "cleaner = RawChatCleaner(\n",
    "    chat_loc = \"/Users/tom/Documents/taskmaster-whatsapp-edition/exported_chat_data/message_exports/celebrations.txt\",\n",
    "    contact_dict = {\n",
    "        \"ezmay\": \"07500079655\",\n",
    "        \"caroline\": \"07773607147\",\n",
    "        \"tom\": \"07920066987\"\n",
    "    }\n",
    ")\n",
    "clean_chat = cleaner.clean()\n",
    "clean_chat[:40]"
   ]
  },
  {
   "cell_type": "code",
   "execution_count": 3,
   "metadata": {},
   "outputs": [],
   "source": [
    "processor = ChatDataProcessor(clean_chat)"
   ]
  },
  {
   "cell_type": "code",
   "execution_count": 4,
   "metadata": {},
   "outputs": [],
   "source": [
    "chat = processor.group_messages()"
   ]
  },
  {
   "cell_type": "code",
   "execution_count": 4,
   "metadata": {},
   "outputs": [],
   "source": [
    "text_processor = MessageTextPreprocessor(clean_chat)"
   ]
  },
  {
   "cell_type": "code",
   "execution_count": 8,
   "metadata": {},
   "outputs": [
    {
     "data": {
      "text/plain": [
       "935    I suggest we aim for the one thousand, two hun...\n",
       "936    So leave at one thousand, one hundred and thirty \n",
       "937                                         Im home btw \n",
       "938    four hundred and forty-seven billion, five hun...\n",
       "939                                  Will check now Xxx \n",
       "940    Hey guys can we all make a bit of an effort ov...\n",
       "941    Keeps getting close to being able to have the ...\n",
       "942    Guys I am working the weekend of the two thous...\n",
       "943                                Trying to find cover \n",
       "944                              Have we bought Tix yet \n",
       "945                  Could we move to the weekend after \n",
       "946                                         Haiahiiiiii \n",
       "947    Have bought tickets already but wanted to conf...\n",
       "948               How slim are chances of getting cover \n",
       "949                           Im gonna ask around today \n",
       "950                               I have Thursday cover \n",
       "951                   Im gonna say I bought Tix already \n",
       "952                                                 Lol \n",
       "953    httpswwwredditcomrInternetIsBeautifulcommentsx...\n",
       "954                                  All good re dorset \n",
       "955            Can u send the link plz so I can buy Tix \n",
       "956                                        MediaOmitted \n",
       "957            Stupid barwench fucked up and overpoored \n",
       "958                                        MediaOmitted \n",
       "959                                  Working till close \n",
       "960                                        MediaOmitted \n",
       "961                               The beer is long gone \n",
       "962                Ur close looks more like a night out \n",
       "963                               We got the red lights \n",
       "964                                        RoOOOOOXAnne \n",
       "dtype: object"
      ]
     },
     "execution_count": 8,
     "metadata": {},
     "output_type": "execute_result"
    }
   ],
   "source": [
    "text_processor.number_to_word_preprocessing()[-61:-31]"
   ]
  },
  {
   "cell_type": "code",
   "execution_count": 57,
   "metadata": {},
   "outputs": [
    {
     "data": {
      "text/plain": [
       "<re.Match object; span=(0, 5), match='00000'>"
      ]
     },
     "execution_count": 57,
     "metadata": {},
     "output_type": "execute_result"
    }
   ],
   "source": [
    "regexp = r\"(0*\\b)\"\n",
    "re.search(regexp, '00000')"
   ]
  },
  {
   "cell_type": "code",
   "execution_count": 47,
   "metadata": {},
   "outputs": [
    {
     "name": "stdout",
     "output_type": "stream",
     "text": [
      "3,000 years at 20 30 o'clock but this isnt replaced right?\n",
      "three thousand\n",
      "years\n",
      "at\n",
      "twenty\n",
      "thirty\n",
      "o'clock\n",
      "but\n",
      "this\n",
      "isnt\n",
      "replaced\n",
      "right?\n"
     ]
    }
   ],
   "source": [
    "import inflect\n",
    "eng = inflect.engine()\n",
    "str_ = \"3,000 years at 20:30 but this isnt replaced right?\"\n",
    "str_ = re.sub(r\"(?:(\\d{1,2}):(\\d{2}))\", r\"\\1 \\2 o'clock\", str_)\n",
    "print(str_)\n",
    "for s in str_.split():\n",
    "    word_num = eng.number_to_words(s)\n",
    "    if (word_num == 'zero') and (s != '0'):\n",
    "        word_num = s\n",
    "    print(word_num)"
   ]
  },
  {
   "cell_type": "code",
   "execution_count": 6,
   "metadata": {},
   "outputs": [
    {
     "name": "stderr",
     "output_type": "stream",
     "text": [
      "/Users/tom/opt/miniconda3/lib/python3.9/site-packages/tqdm/auto.py:22: TqdmWarning: IProgress not found. Please update jupyter and ipywidgets. See https://ipywidgets.readthedocs.io/en/stable/user_install.html\n",
      "  from .autonotebook import tqdm as notebook_tqdm\n"
     ]
    },
    {
     "name": "stdout",
     "output_type": "stream",
     "text": [
      "Casual to Formal model loaded...\n"
     ]
    }
   ],
   "source": [
    "text_processor.formalise_preprocessing(batch_size=3, stop_at=10)"
   ]
  },
  {
   "cell_type": "code",
   "execution_count": 15,
   "metadata": {},
   "outputs": [
    {
     "data": {
      "text/plain": [
       "'twelve thousand three hundred'"
      ]
     },
     "execution_count": 15,
     "metadata": {},
     "output_type": "execute_result"
    }
   ],
   "source": [
    "import inflect\n",
    "inflect_engine = inflect.engine()\n",
    "inflect_engine.number_to_words('12300').replace(\",\",\"\")"
   ]
  },
  {
   "cell_type": "code",
   "execution_count": 8,
   "metadata": {},
   "outputs": [
    {
     "data": {
      "text/plain": [
       "\"__Media_Omitted__. Pub is a no go for me I'm afraid  :disappointed_face:  not sure I can make tomorrow either. \""
      ]
     },
     "execution_count": 8,
     "metadata": {},
     "output_type": "execute_result"
    }
   ],
   "source": [
    "import re\n",
    "newline_regexp = re.compile(\n",
    "    r\"(?:\\n)\"\n",
    ")\n",
    "newline_regexp.sub(\n",
    "    \". \",\n",
    "    processor.group_messages()[:10].iloc[7,0]\n",
    ")"
   ]
  },
  {
   "cell_type": "code",
   "execution_count": 4,
   "metadata": {},
   "outputs": [],
   "source": [
    "clean_chat[\"message_group_id\"] = create_message_group_id(\n",
    "    clean_chat,\n",
    "    th=1\n",
    ")"
   ]
  },
  {
   "cell_type": "code",
   "execution_count": 9,
   "metadata": {},
   "outputs": [
    {
     "data": {
      "text/plain": [
       "\"Pub is a no go for me I'm afraid  :disappointed_face:  not sure I can make tomorrow either. \""
      ]
     },
     "execution_count": 9,
     "metadata": {},
     "output_type": "execute_result"
    }
   ],
   "source": [
    "clean_chat.iloc[14,3]"
   ]
  },
  {
   "cell_type": "code",
   "execution_count": 4,
   "metadata": {},
   "outputs": [
    {
     "data": {
      "text/html": [
       "<div>\n",
       "<style scoped>\n",
       "    .dataframe tbody tr th:only-of-type {\n",
       "        vertical-align: middle;\n",
       "    }\n",
       "\n",
       "    .dataframe tbody tr th {\n",
       "        vertical-align: top;\n",
       "    }\n",
       "\n",
       "    .dataframe thead th {\n",
       "        text-align: right;\n",
       "    }\n",
       "</style>\n",
       "<table border=\"1\" class=\"dataframe\">\n",
       "  <thead>\n",
       "    <tr style=\"text-align: right;\">\n",
       "      <th></th>\n",
       "      <th></th>\n",
       "      <th>event_count</th>\n",
       "      <th>message_count</th>\n",
       "      <th>synthetic_row</th>\n",
       "    </tr>\n",
       "    <tr>\n",
       "      <th>author</th>\n",
       "      <th>year</th>\n",
       "      <th></th>\n",
       "      <th></th>\n",
       "      <th></th>\n",
       "    </tr>\n",
       "  </thead>\n",
       "  <tbody>\n",
       "    <tr>\n",
       "      <th rowspan=\"2\" valign=\"top\"></th>\n",
       "      <th>2021</th>\n",
       "      <td>3</td>\n",
       "      <td>0</td>\n",
       "      <td>False</td>\n",
       "    </tr>\n",
       "    <tr>\n",
       "      <th>2022</th>\n",
       "      <td>24</td>\n",
       "      <td>0</td>\n",
       "      <td>False</td>\n",
       "    </tr>\n",
       "    <tr>\n",
       "      <th rowspan=\"2\" valign=\"top\">Caroline</th>\n",
       "      <th>2021</th>\n",
       "      <td>0</td>\n",
       "      <td>74</td>\n",
       "      <td>False</td>\n",
       "    </tr>\n",
       "    <tr>\n",
       "      <th>2022</th>\n",
       "      <td>0</td>\n",
       "      <td>339</td>\n",
       "      <td>False</td>\n",
       "    </tr>\n",
       "    <tr>\n",
       "      <th rowspan=\"2\" valign=\"top\">Ezmay</th>\n",
       "      <th>2021</th>\n",
       "      <td>0</td>\n",
       "      <td>29</td>\n",
       "      <td>False</td>\n",
       "    </tr>\n",
       "    <tr>\n",
       "      <th>2022</th>\n",
       "      <td>0</td>\n",
       "      <td>229</td>\n",
       "      <td>False</td>\n",
       "    </tr>\n",
       "    <tr>\n",
       "      <th rowspan=\"2\" valign=\"top\">tom</th>\n",
       "      <th>2021</th>\n",
       "      <td>0</td>\n",
       "      <td>53</td>\n",
       "      <td>False</td>\n",
       "    </tr>\n",
       "    <tr>\n",
       "      <th>2022</th>\n",
       "      <td>0</td>\n",
       "      <td>241</td>\n",
       "      <td>False</td>\n",
       "    </tr>\n",
       "  </tbody>\n",
       "</table>\n",
       "</div>"
      ],
      "text/plain": [
       "               event_count  message_count  synthetic_row\n",
       "author   year                                           \n",
       "         2021            3              0          False\n",
       "         2022           24              0          False\n",
       "Caroline 2021            0             74          False\n",
       "         2022            0            339          False\n",
       "Ezmay    2021            0             29          False\n",
       "         2022            0            229          False\n",
       "tom      2021            0             53          False\n",
       "         2022            0            241          False"
      ]
     },
     "execution_count": 4,
     "metadata": {},
     "output_type": "execute_result"
    }
   ],
   "source": [
    "ts = processor.make_timeseries(\n",
    "    freq='y'\n",
    ")\n",
    "ts"
   ]
  },
  {
   "cell_type": "code",
   "execution_count": 2,
   "metadata": {},
   "outputs": [
    {
     "data": {
      "text/plain": [
       "' processor.make_message_tokens(\\n    ngram_range=(1,2),\\n    stop_words=\"english\"\\n).sum().sort_values(ascending=False)[:20] '"
      ]
     },
     "execution_count": 2,
     "metadata": {},
     "output_type": "execute_result"
    }
   ],
   "source": [
    "\"\"\" processor.make_message_tokens(\n",
    "    ngram_range=(1,2),\n",
    "    stop_words=\"english\"\n",
    ").sum().sort_values(ascending=False)[:20] \"\"\""
   ]
  },
  {
   "cell_type": "code",
   "execution_count": null,
   "metadata": {},
   "outputs": [],
   "source": []
  }
 ],
 "metadata": {
  "kernelspec": {
   "display_name": "Python 3.9.12 ('base')",
   "language": "python",
   "name": "python3"
  },
  "language_info": {
   "codemirror_mode": {
    "name": "ipython",
    "version": 3
   },
   "file_extension": ".py",
   "mimetype": "text/x-python",
   "name": "python",
   "nbconvert_exporter": "python",
   "pygments_lexer": "ipython3",
   "version": "3.9.12"
  },
  "orig_nbformat": 4,
  "vscode": {
   "interpreter": {
    "hash": "decd2c030e4ffd63976cab7182a67855f2b4ef0b39318e2079d2cca848dd8792"
   }
  }
 },
 "nbformat": 4,
 "nbformat_minor": 2
}
