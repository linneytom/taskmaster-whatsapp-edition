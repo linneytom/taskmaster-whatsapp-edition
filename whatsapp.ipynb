{
 "cells": [
  {
   "cell_type": "code",
   "execution_count": 1,
   "metadata": {},
   "outputs": [
    {
     "ename": "ModuleNotFoundError",
     "evalue": "No module named 'textblob'",
     "output_type": "error",
     "traceback": [
      "\u001b[0;31m---------------------------------------------------------------------------\u001b[0m",
      "\u001b[0;31mModuleNotFoundError\u001b[0m                       Traceback (most recent call last)",
      "\u001b[0;32m<ipython-input-1-a88e18ce32a9>\u001b[0m in \u001b[0;36m<module>\u001b[0;34m\u001b[0m\n\u001b[1;32m      7\u001b[0m \u001b[0;32mfrom\u001b[0m \u001b[0mnltk\u001b[0m\u001b[0;34m.\u001b[0m\u001b[0mstem\u001b[0m \u001b[0;32mimport\u001b[0m \u001b[0mPorterStemmer\u001b[0m\u001b[0;34m\u001b[0m\u001b[0;34m\u001b[0m\u001b[0m\n\u001b[1;32m      8\u001b[0m \u001b[0;32mfrom\u001b[0m \u001b[0mnltk\u001b[0m\u001b[0;34m.\u001b[0m\u001b[0mcorpus\u001b[0m \u001b[0;32mimport\u001b[0m \u001b[0mstopwords\u001b[0m\u001b[0;34m\u001b[0m\u001b[0;34m\u001b[0m\u001b[0m\n\u001b[0;32m----> 9\u001b[0;31m \u001b[0;32mimport\u001b[0m \u001b[0mtextblob\u001b[0m\u001b[0;34m\u001b[0m\u001b[0;34m\u001b[0m\u001b[0m\n\u001b[0m\u001b[1;32m     10\u001b[0m \u001b[0;34m\u001b[0m\u001b[0m\n\u001b[1;32m     11\u001b[0m \u001b[0;32mimport\u001b[0m \u001b[0mmatplotlib\u001b[0m\u001b[0;34m.\u001b[0m\u001b[0mpyplot\u001b[0m \u001b[0;32mas\u001b[0m \u001b[0mplt\u001b[0m\u001b[0;34m\u001b[0m\u001b[0;34m\u001b[0m\u001b[0m\n",
      "\u001b[0;31mModuleNotFoundError\u001b[0m: No module named 'textblob'"
     ]
    }
   ],
   "source": [
    "import pandas as pd \n",
    "import numpy as np \n",
    "\n",
    "\n",
    "from sklearn.feature_extraction.text import CountVectorizer\n",
    "import nltk \n",
    "from nltk.stem import PorterStemmer\n",
    "from nltk.corpus import stopwords\n",
    "import textblob\n",
    "\n",
    "import matplotlib.pyplot as plt \n",
    "import seaborn as sns"
   ]
  },
  {
   "cell_type": "code",
   "execution_count": 4,
   "metadata": {},
   "outputs": [],
   "source": [
    "df = pd.read_csv('/Users/tom/Documents/taskMaster/whatsappData.csv').drop('Unnamed: 0', axis=1)"
   ]
  },
  {
   "cell_type": "code",
   "execution_count": 5,
   "metadata": {},
   "outputs": [],
   "source": [
    "alptxt = open('/Users/tom/Documents/taskMaster/aliciasHistory.txt', 'r').read()\n",
    "cstxt1 = open('/Users/tom/Documents/taskMaster/firstChat.txt', 'r').read()\n",
    "cstxt2 = open('/Users/tom/Documents/taskMaster/secondChat.txt', 'r').read()"
   ]
  },
  {
   "cell_type": "code",
   "execution_count": 6,
   "metadata": {},
   "outputs": [
    {
     "data": {
      "text/plain": [
       "Caitie                           5189\n",
       "Finn                             4571\n",
       "Alicia                           3866\n",
       "Cath                             3223\n",
       "Will                             2750\n",
       "Prem                             2277\n",
       "Cath Jones                       2024\n",
       "Chole                            1480\n",
       "Tom                               722\n",
       "Miles                             674\n",
       "Katherine                         611\n",
       "Josh                              522\n",
       "Sofia                             495\n",
       "Chole Williams                    228\n",
       "Dr Katie Baker                    167\n",
       "‪+44 7544 951029‬                  43\n",
       "‎You changed the subject to “       1\n",
       "Name: author, dtype: int64"
      ]
     },
     "execution_count": 6,
     "metadata": {},
     "output_type": "execute_result"
    }
   ],
   "source": [
    "df.author.value_counts()"
   ]
  },
  {
   "cell_type": "code",
   "execution_count": 7,
   "metadata": {},
   "outputs": [],
   "source": [
    "def cleanA(a):\n",
    "    if a == 'Cath Jones':\n",
    "        return 'Cath'\n",
    "    elif a == 'Chole Williams':\n",
    "        return 'Chole'\n",
    "    else:\n",
    "        return a\n",
    "\n",
    "def cleanTxt(t):\n",
    "    if pd.isnull(t):\n",
    "        return t\n",
    "    else:\n",
    "        return t.replace('\\u200e','')\n",
    "\n",
    "df['author']=df.author.apply(cleanA)\n",
    "df['txt']=df.txt.apply(cleanTxt)\n",
    "df=df[~df['txt'].str.lower().str.contains('this message was deleted')]"
   ]
  },
  {
   "cell_type": "code",
   "execution_count": 8,
   "metadata": {},
   "outputs": [],
   "source": [
    "cvec = CountVectorizer()\n",
    "cvec.fit(df.txt)\n",
    "wcs=pd.DataFrame(cvec.transform(df.txt).toarray(), columns=cvec.get_feature_names())\n",
    "wcs=pd.concat([df,wcs], axis=1)"
   ]
  },
  {
   "cell_type": "code",
   "execution_count": 14,
   "metadata": {},
   "outputs": [],
   "source": [
    "cvec = CountVectorizer(ngram_range=(3,3))\n",
    "cvec.fit(df.txt)\n",
    "pcs=pd.DataFrame(cvec.transform(df.txt).toarray(), columns=cvec.get_feature_names())\n",
    "pcs=pd.concat([df,pcs], axis=1)"
   ]
  },
  {
   "cell_type": "code",
   "execution_count": 15,
   "metadata": {},
   "outputs": [],
   "source": [
    "cols=[c for c in pcs.columns if c not in df.columns]"
   ]
  },
  {
   "cell_type": "code",
   "execution_count": 12,
   "metadata": {},
   "outputs": [],
   "source": [
    "cols=[c for c in pcs.columns if c not in ['time', 'txt', 'isAdmin', 'author', 'origin', 'wordCount']]"
   ]
  },
  {
   "cell_type": "code",
   "execution_count": 16,
   "metadata": {},
   "outputs": [
    {
     "data": {
      "text/plain": [
       "00 23 30              0.0\n",
       "put some bon          0.0\n",
       "put surrey instead    0.0\n",
       "put tents down        0.0\n",
       "put that as           0.0\n",
       "                     ... \n",
       "we re going           4.0\n",
       "pub quiz with         4.0\n",
       "are going to          4.0\n",
       "happy new year        5.0\n",
       "if you re             5.0\n",
       "Length: 77887, dtype: float64"
      ]
     },
     "execution_count": 16,
     "metadata": {},
     "output_type": "execute_result"
    }
   ],
   "source": [
    "pcs[pcs['author']=='Will'][cols].sum().sort_values()"
   ]
  },
  {
   "cell_type": "code",
   "execution_count": null,
   "metadata": {},
   "outputs": [],
   "source": []
  },
  {
   "cell_type": "code",
   "execution_count": 17,
   "metadata": {},
   "outputs": [
    {
     "data": {
      "text/plain": [
       "1.0"
      ]
     },
     "execution_count": 17,
     "metadata": {},
     "output_type": "execute_result"
    }
   ],
   "source": [
    "pcs[pcs['author']=='Will']['my nu leng'].sum()"
   ]
  }
 ],
 "metadata": {
  "kernelspec": {
   "display_name": "Python 3.7.3 64-bit",
   "language": "python",
   "name": "python3"
  },
  "language_info": {
   "codemirror_mode": {
    "name": "ipython",
    "version": 3
   },
   "file_extension": ".py",
   "mimetype": "text/x-python",
   "name": "python",
   "nbconvert_exporter": "python",
   "pygments_lexer": "ipython3",
   "version": "3.7.3"
  },
  "orig_nbformat": 2,
  "vscode": {
   "interpreter": {
    "hash": "31f2aee4e71d21fbe5cf8b01ff0e069b9275f58929596ceb00d14d90e3e16cd6"
   }
  }
 },
 "nbformat": 4,
 "nbformat_minor": 2
}
